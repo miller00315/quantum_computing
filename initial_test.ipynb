{
 "cells": [
  {
   "cell_type": "code",
   "execution_count": 5,
   "metadata": {},
   "outputs": [
    {
     "name": "stderr",
     "output_type": "stream",
     "text": [
      "Traceback (most recent call last):\n",
      "  File \"src/gevent/greenlet.py\", line 908, in gevent._gevent_cgreenlet.Greenlet.run\n",
      "  File \"/home/miller/.local/lib/python3.10/site-packages/eel/__init__.py\", line 194, in run_lambda\n",
      "    btl.run(\n",
      "  File \"/home/miller/.local/lib/python3.10/site-packages/bottle.py\", line 3175, in run\n",
      "    server.run(app)\n",
      "  File \"/home/miller/.local/lib/python3.10/site-packages/bottle_websocket/server.py\", line 17, in run\n",
      "    server.serve_forever()\n",
      "  File \"/home/miller/.local/lib/python3.10/site-packages/gevent/baseserver.py\", line 398, in serve_forever\n",
      "    self.start()\n",
      "  File \"/home/miller/.local/lib/python3.10/site-packages/gevent/baseserver.py\", line 336, in start\n",
      "    self.init_socket()\n",
      "  File \"/home/miller/.local/lib/python3.10/site-packages/gevent/pywsgi.py\", line 1668, in init_socket\n",
      "    StreamServer.init_socket(self)\n",
      "  File \"/home/miller/.local/lib/python3.10/site-packages/gevent/server.py\", line 173, in init_socket\n",
      "    self.socket = self.get_listener(self.address, self.backlog, self.family)\n",
      "  File \"/home/miller/.local/lib/python3.10/site-packages/gevent/server.py\", line 185, in get_listener\n",
      "    return _tcp_listener(address, backlog=backlog, reuse_addr=cls.reuse_addr, family=family)\n",
      "  File \"/home/miller/.local/lib/python3.10/site-packages/gevent/server.py\", line 264, in _tcp_listener\n",
      "    sock.bind(address)\n",
      "  File \"/home/miller/.local/lib/python3.10/site-packages/gevent/_socketcommon.py\", line 547, in bind\n",
      "    return self._sock.bind(address)\n",
      "OSError: [Errno 98] Address already in use: ('localhost', 8000)\n",
      "2024-08-04T00:39:48Z <Greenlet at 0x7ff858d5f740: run_lambda> failed with OSError\n",
      "\n"
     ]
    },
    {
     "name": "stdout",
     "output_type": "stream",
     "text": [
      "Simulador iniciado com sucesso\n"
     ]
    }
   ],
   "source": [
    "from Neuraline.QuantumPhysics.quantum_computing import CircuitSimulator\n",
    "\n",
    "quantum_computing = CircuitSimulator()\n",
    "\n",
    "result = quantum_computing.runQuantumCircuit(\n",
    "    nqubits=2,\n",
    "    nmoments=10\n",
    ")\n",
    "\n",
    "if result: print('Simulador iniciado com sucesso')\n",
    "else: print('Erro no carregamento do simulador quantico')"
   ]
  },
  {
   "cell_type": "code",
   "execution_count": null,
   "metadata": {},
   "outputs": [],
   "source": []
  }
 ],
 "metadata": {
  "kernelspec": {
   "display_name": "Python 3",
   "language": "python",
   "name": "python3"
  },
  "language_info": {
   "codemirror_mode": {
    "name": "ipython",
    "version": 3
   },
   "file_extension": ".py",
   "mimetype": "text/x-python",
   "name": "python",
   "nbconvert_exporter": "python",
   "pygments_lexer": "ipython3",
   "version": "3.10.12"
  }
 },
 "nbformat": 4,
 "nbformat_minor": 2
}
