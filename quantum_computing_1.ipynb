{
 "cells": [
  {
   "cell_type": "code",
   "execution_count": 64,
   "metadata": {},
   "outputs": [],
   "source": [
    "from Neuraline.QuantumPhysics.quantum_computing import CLASSICAL_COMPUTER, QUANTUM_SIMULATOR, QUANTUM_COMPUTER\n",
    "from Neuraline.QuantumPhysics.quantum_computing import QuantumCircuit\n",
    "from Neuraline.QuantumPhysics.quantum_simulation import QuantumSimulation"
   ]
  },
  {
   "cell_type": "code",
   "execution_count": 17,
   "metadata": {},
   "outputs": [],
   "source": [
    "# Arquiteura clásica com a máquina atual\n",
    "quantum_circuit = QuantumCircuit(\n",
    "    architecture=CLASSICAL_COMPUTER\n",
    ")"
   ]
  },
  {
   "cell_type": "code",
   "execution_count": 13,
   "metadata": {},
   "outputs": [],
   "source": [
    "# Arquitetura quântica simulada na máquina remota\n",
    "quantum_circuit = QuantumCircuit(\n",
    "    architecture=QUANTUM_SIMULATOR\n",
    ")"
   ]
  },
  {
   "cell_type": "code",
   "execution_count": 21,
   "metadata": {},
   "outputs": [],
   "source": [
    "# Arquiteura clásica com a máquina atual\n",
    "quantum_circuit = QuantumCircuit(\n",
    "    architecture=QUANTUM_COMPUTER\n",
    ")"
   ]
  },
  {
   "cell_type": "code",
   "execution_count": 22,
   "metadata": {},
   "outputs": [
    {
     "name": "stdout",
     "output_type": "stream",
     "text": [
      "|Q0>: ───────H───\n",
      "\n",
      "|Q1>: ───────────\n",
      "Engenharia quântica gravada com sucesso.\n"
     ]
    }
   ],
   "source": [
    "# Seta o número de qubits (bit)\n",
    "quantum_circuit.setQubits(\n",
    "    nqubits=2\n",
    ")\n",
    "\n",
    "# adiciona portas quânticas a grade quântica\n",
    "\n",
    "quantum_circuit.addHadamardGATE(\n",
    "    qubitIndexName=0,\n",
    "    exponent=1 # expoente potencial para elevar os valores originais da matriz da porta\n",
    ") # a porta hadamard sempre terá probabilidades semelhantes (raramente iguais) para os estados\n",
    "\n",
    "\n",
    "result = quantum_circuit.showCircuit(\n",
    "    save=False\n",
    ")\n",
    "\n",
    "if result: print('Engenharia quântica gravada com sucesso.')\n",
    "else: print('Erro na gravação da engenharia quântica.')"
   ]
  },
  {
   "cell_type": "code",
   "execution_count": 23,
   "metadata": {},
   "outputs": [
    {
     "name": "stdout",
     "output_type": "stream",
     "text": [
      "Resultado da medição: {'|00>': 0.4951171875, '|01>': 0.0, '|10>': 0.5048828125, '|11>': 0.0}\n"
     ]
    }
   ],
   "source": [
    "# medição do estado quântico resultante\n",
    "measurement = quantum_circuit.measurement(\n",
    "    repetitions=1024, # número de medições, quanto maior mais preciso, porém mais lento\n",
    "    qubitIndexNames=[0, 1] # lista com os indice de qubits que serão medidos\n",
    ")\n",
    "\n",
    "print(f'Resultado da medição: {measurement}') # exibe um dicionário probalistíco"
   ]
  },
  {
   "cell_type": "code",
   "execution_count": 24,
   "metadata": {},
   "outputs": [
    {
     "name": "stdout",
     "output_type": "stream",
     "text": [
      "╒══════╤═════════════════╤═══════════════╕\n",
      "│ ID   │ QUANTUM STATE   │ PROBABILITY   │\n",
      "╞══════╪═════════════════╪═══════════════╡\n",
      "│ 1    │ |10>            │ 0.5048828125  │\n",
      "├──────┼─────────────────┼───────────────┤\n",
      "│ 2    │ |00>            │ 0.4951171875  │\n",
      "├──────┼─────────────────┼───────────────┤\n",
      "│ 3    │ |01>            │ 0.0000000000  │\n",
      "├──────┼─────────────────┼───────────────┤\n",
      "│ 4    │ |11>            │ 0.0000000000  │\n",
      "╘══════╧═════════════════╧═══════════════╛\n"
     ]
    },
    {
     "data": {
      "image/png": "[encoded data removed]",
      "text/plain": [
       "<Figure size 800x400 with 1 Axes>"
      ]
     },
     "metadata": {},
     "output_type": "display_data"
    },
    {
     "name": "stdout",
     "output_type": "stream",
     "text": [
      "Gráfico de probabilidade para os estados quânticos gerados com sucesso\n",
      "Estado quântico com maior prbabilidade: |10>\n",
      "Estado clásico de maior probailidade: \u0002\n"
     ]
    }
   ],
   "source": [
    "# verificação do sucesso da operação anterior\n",
    "result = quantum_circuit.showMeasurement(\n",
    "    measurement=measurement,\n",
    "    save=False # desabilita o arquivo de salvamento do circuito\n",
    ")\n",
    "\n",
    "result = quantum_circuit.plotMeasurement(\n",
    "    measurement=measurement,\n",
    "    bar_values=False # desabilita o arquivo de salvamento do circuito\n",
    ")\n",
    "\n",
    "if result: print('Gráfico de probabilidade para os estados quânticos gerados com sucesso')\n",
    "else: print('Erro na geração do gráfico de probabilidades para os estados quânticos')\n",
    "\n",
    "quantum_state = quantum_circuit.getMaximumProbabilityState() # captura o estado quântico mais possível\n",
    "\n",
    "print(f'Estado quântico com maior prbabilidade: {quantum_state}')\n",
    "\n",
    "classical_state = quantum_circuit.toConvert(state= quantum_state) # Converte o estado quântico em estado clássico\n",
    "\n",
    "print(f'Estado clásico de maior probailidade: {classical_state}')"
   ]
  },
  {
   "cell_type": "markdown",
   "metadata": {},
   "source": [
    "## Portas Quânticas pode ser utilizadas como chave de criptografia quântica"
   ]
  },
  {
   "cell_type": "markdown",
   "metadata": {},
   "source": [
    "### Criptografia de Dados"
   ]
  },
  {
   "cell_type": "code",
   "execution_count": 25,
   "metadata": {},
   "outputs": [
    {
     "name": "stdout",
     "output_type": "stream",
     "text": [
      "|Q0>: ───────#───H───@───@───\n",
      "             │       │   │\n",
      "|Q1>: ───────#───Z───X───@───\n",
      "             │           │\n",
      "|Q2>: ───────#───────────X───\n",
      "Engenharia quântica gravado com sucesso\n"
     ]
    }
   ],
   "source": [
    "quantum_circuit = QuantumCircuit(\n",
    "    architecture=QUANTUM_COMPUTER\n",
    ")\n",
    "\n",
    "quantum_circuit.setQubits( # monta a grade quântica\n",
    "    nqubits=3 # número de qubits utilizados na montagem da grade quântica\n",
    ")\n",
    "\n",
    "quantum_circuit.addEncoderText() # porta para codifcação de dados classicos em quânticos\n",
    "\n",
    "quantum_circuit.addHadamardGATE(qubitIndexName=0) # primeira porta aleatória\n",
    "\n",
    "quantum_circuit.addPauliZGATE(qubitIndexName=1) # segunda porta aleatória\n",
    "\n",
    "quantum_circuit.addControlledNOTGATE(qubitIndexName1=0, qubitIndexName2=1) # terceira porta aleatória\n",
    "\n",
    "quantum_circuit.addToffoliGATE(qubitIndexName1=0, qubitIndexName2=1, qubitIndexName3=2) # quarta porta aleatória\n",
    "\n",
    "result = quantum_circuit.showCircuit( # exibição do circuito quantico\n",
    "    save=False # desabilita o arquivo de salvamento do circuito\n",
    ")\n",
    "\n",
    "if result: print('Engenharia quântica gravado com sucesso')\n",
    "else: print('Erro na gravação da engenharia quântica')"
   ]
  },
  {
   "cell_type": "code",
   "execution_count": 31,
   "metadata": {},
   "outputs": [
    {
     "name": "stdout",
     "output_type": "stream",
     "text": [
      "Mensagem original: 123\n",
      "Mensagem criptografada: 10011100101011001110010101000011000111001010110011100101010000111110110010101100\n"
     ]
    }
   ],
   "source": [
    "original_text = '123'\n",
    "\n",
    "quantum_circuit.measurement(\n",
    "    repetitions=1024, # número de medições, quanto maior mais preciso, porém, mais lento\n",
    "    qubitIndexNames=[0, 1, 2], # lista com os índices dos qubits, porém, mais lento\n",
    "    data=original_text # atribuição do conteúdo a ser criptografado\n",
    ")\n",
    "\n",
    "encrypted_text = quantum_circuit.getResult()\n",
    "\n",
    "print(f'Mensagem original: {original_text}')\n",
    "print(f'Mensagem criptografada: {encrypted_text}')"
   ]
  },
  {
   "cell_type": "markdown",
   "metadata": {},
   "source": [
    "### Descriptografia de dados"
   ]
  },
  {
   "cell_type": "code",
   "execution_count": 33,
   "metadata": {},
   "outputs": [
    {
     "name": "stdout",
     "output_type": "stream",
     "text": [
      "|Q0>: ───────H───@───@───§───\n",
      "                 │   │   │\n",
      "|Q1>: ───────Z───X───@───§───\n",
      "                     │   │\n",
      "|Q2>: ───────────────X───§───\n",
      "Mensagem original: 123\n",
      "Mensagem criptografada: 10011100101011001110010101000011000111001010110011100101010000111110110010101100\n"
     ]
    }
   ],
   "source": [
    "quantum_circuit = QuantumCircuit( # instanciação do objeto responsável pela criação do circuito\n",
    "    architecture=QUANTUM_COMPUTER # arquitetura de aceso remoto a máquina quântica\n",
    ")\n",
    "\n",
    "quantum_circuit.setQubits( # monta a grade quântica\n",
    "    nqubits=3 # número de qubits utilizados na grade quântica\n",
    ")\n",
    "\n",
    "quantum_circuit.addHadamardGATE(qubitIndexName=0) # primeira porta aleatória\n",
    "quantum_circuit.addPauliZGATE(qubitIndexName=1) # segunda porta aleatória\n",
    "quantum_circuit.addControlledNOTGATE(qubitIndexName1=0, qubitIndexName2=1) # terceira porta aleatória\n",
    "quantum_circuit.addToffoliGATE(qubitIndexName1=0, qubitIndexName2=1, qubitIndexName3=2) # quarta porta aleatória\n",
    "quantum_circuit.addDecoderText() # porta para decodificação de dados quânticos em clássicos\n",
    "\n",
    "result = quantum_circuit.showCircuit( # exibição do circuito quântico\n",
    "    save=False # desabilita o arquivo de ssalvamento do circuito\n",
    ")\n",
    "\n",
    "quantum_circuit.measurement(\n",
    "    repetitions=1024,\n",
    "    qubitIndexNames=[0, 1, 2], # lista com os índices dos qubits, porém, mais lento,\n",
    "    data=encrypted_text\n",
    ")\n",
    "\n",
    "\n",
    "result = quantum_circuit.getResult()\n",
    "\n",
    "print(f'Mensagem original: {result}')\n",
    "print(f'Mensagem criptografada: {encrypted_text}')"
   ]
  },
  {
   "cell_type": "markdown",
   "metadata": {},
   "source": [
    "### Clusterização por Tunelamento Quântico"
   ]
  },
  {
   "cell_type": "markdown",
   "metadata": {},
   "source": [
    "### Algoritmo de Shor"
   ]
  },
  {
   "cell_type": "code",
   "execution_count": 38,
   "metadata": {},
   "outputs": [
    {
     "name": "stdout",
     "output_type": "stream",
     "text": [
      "Engenharia quântica gravada com sucesso\n",
      "|Q0>: ───────|X>───|───|───|Y>───\n",
      "             │     │   │   │\n",
      "|Q1>: ───────|X>───|───|───|Y>───\n",
      "             │     │   │   │\n",
      "|Q2>: ───────|X>───|───|───|Y>───\n",
      "1º [[5, 10], [6, 60], [7, 35], [12, 60], [14, 70], [14, 98], [18, 180], [19, 76], [21, 42], [21, 42], [26, 78], [29, 261], [33, 99], [35, 70], [36, 288], [37, 185], [39, 234], [40, 160], [48, 144], [49, 392], [56, 280], [59, 118], [59, 590], [61, 305], [61, 366], [62, 186], [62, 496], [65, 390], [68, 340], [70, 420], [71, 497], [73, 292], [75, 675], [76, 456], [80, 560], [81, 567], [81, 729], [84, 840], [85, 425], [85, 680], [86, 860], [91, 910], [96, 864], [98, 490], [98, 882], [105, 525], [106, 212], [113, 791], [117, 234], [121, 363], [121, 726], [126, 1008], [127, 1270], [128, 896], [131, 524], [134, 1072], [137, 274], [137, 1096], [139, 417], [139, 1390], [140, 840], [146, 730], [147, 882], [150, 1500], [152, 608], [153, 306], [153, 765], [157, 785], [157, 1570], [159, 1431], [161, 1127], [162, 1296], [164, 984], [170, 1190], [171, 1197], [172, 1032], [172, 1376], [179, 895], [180, 540], [180, 1080], [181, 543], [181, 1267], [188, 940], [189, 756], [193, 386], [195, 390], [198, 1782], [200, 1600], [207, 414], [207, 1242], [211, 844], [212, 424], [217, 2170], [219, 876], [223, 1115], [232, 1856], [234, 1872], [234, 2340], [236, 2360], [240, 480], [241, 1205], [241, 1928], [245, 490], [246, 738], [247, 1235], [247, 1482], [249, 498], [251, 1004], [256, 1024], [258, 774], [258, 2064], [267, 2670], [269, 1345], [270, 2430], [276, 1104], [278, 1946], [287, 1722], [288, 2880], [289, 1445], [290, 580], [291, 2619], [292, 2920], [294, 2352], [302, 2718], [306, 1836], [312, 936], [316, 3160], [317, 1585], [325, 2275], [329, 3290], [335, 1675], [337, 2022], [340, 1020], [340, 3400], [345, 1035], [358, 1074], [364, 1456], [366, 2928], [367, 1101], [370, 2590], [370, 3330], [375, 3000], [380, 1900], [381, 3810], [383, 3064], [387, 2322], [389, 1945], [392, 784], [392, 3920], [395, 2370], [401, 3208], [403, 1612], [405, 3240], [419, 838], [419, 1257], [420, 4200], [425, 3400], [429, 1716], [429, 4290], [432, 3456], [434, 3472], [435, 1740], [441, 2205], [444, 1332], [454, 1362], [455, 1365], [458, 1832], [459, 1377], [460, 1380], [461, 3688], [462, 1386], [474, 4740], [485, 3395], [495, 990], [495, 4455], [497, 3479], [505, 2525], [512, 1536], [513, 5130], [514, 3598], [518, 2072], [518, 4144], [525, 3675], [526, 5260], [527, 5270], [528, 1584], [528, 5280], [530, 4240], [530, 5300], [531, 2655], [538, 3228], [540, 1620], [542, 3794], [543, 1629], [550, 4950], [557, 1671], [559, 5590], [560, 3920], [561, 1122], [563, 1126], [563, 4504], [566, 1132], [572, 2288], [572, 4576], [585, 3510], [587, 4696], [593, 5930], [594, 1782], [596, 2384], [597, 1791], [600, 1800], [606, 4242], [617, 3702], [621, 4968], [622, 2488], [623, 1869], [624, 3120], [625, 4375], [627, 1881], [634, 1902], [636, 2544], [636, 6360], [642, 1284], [642, 5778], [650, 4550], [658, 3290], [660, 3300], [665, 6650], [673, 5384], [680, 5440], [681, 1362], [681, 5448], [681, 5448], [685, 4110], [686, 3430], [693, 2772], [697, 2091], [701, 3505], [703, 2109], [703, 2812], [706, 7060], [709, 2127], [712, 5696], [713, 5704], [721, 7210], [721, 7210], [724, 2172], [727, 6543], [735, 2205], [736, 1472], [736, 2944], [747, 2241], [753, 2259], [753, 6024], [753, 7530], [754, 1508], [762, 6096], [765, 3060], [767, 3068], [767, 4602], [778, 3890], [781, 3905], [782, 1564], [782, 2346], [785, 1570], [792, 6336], [792, 6336], [801, 2403], [802, 3208], [805, 1610], [805, 4830], [809, 4045], [812, 4060], [812, 4872], [812, 8120], [816, 8160], [817, 6536], [817, 7353], [818, 2454], [834, 4170], [837, 8370], [844, 4220], [848, 8480], [849, 4245], [850, 6800], [853, 5118], [860, 3440], [863, 2589], [872, 4360], [873, 6984], [875, 1750], [879, 7032], [880, 3520], [881, 7929], [883, 7947], [888, 3552], [890, 7120], [890, 8010], [892, 5352], [894, 3576], [897, 7176], [898, 5388], [901, 2703], [901, 7208], [905, 7240], [906, 4530], [908, 7264], [908, 7264], [911, 9110], [912, 5472], [920, 2760], [921, 5526], [921, 7368], [928, 8352], [930, 3720], [931, 1862], [931, 2793], [931, 9310], [935, 4675], [942, 4710], [942, 8478], [947, 8523], [953, 4765], [954, 9540], [959, 8631], [960, 8640], [960, 9600], [963, 2889], [965, 2895], [966, 7728], [978, 1956], [979, 7832], [981, 3924], [981, 8829]]\n",
      "2º [[982, 1964], [982, 9820], [984, 5904], [984, 6888], [987, 6909], [993, 1986], [993, 6951], [993, 9930], [994, 7952], [998, 2994], [999, 7992], [1000, 6000], [1003, 10030], [1006, 7042], [1007, 2014], [1007, 6042], [1007, 7049], [1008, 6048], [1012, 4048], [1012, 5060], [1013, 2026], [1014, 10140], [1015, 4060], [1018, 6108], [1019, 2038], [1019, 2038], [1019, 3057], [1020, 5100], [1023, 7161], [1026, 2052], [1026, 3078], [1028, 2056], [1031, 4124], [1034, 5170], [1037, 3111], [1044, 5220], [1050, 6300], [1050, 9450], [1053, 2106], [1056, 7392], [1057, 5285], [1062, 4248], [1067, 6402], [1071, 10710], [1073, 7511], [1075, 5375], [1079, 8632], [1080, 5400], [1085, 6510], [1087, 6522], [1088, 7616], [1097, 4388], [1101, 3303], [1101, 9909], [1104, 5520], [1105, 11050], [1108, 7756], [1108, 8864], [1111, 8888], [1113, 8904], [1126, 7882], [1126, 10134], [1128, 4512], [1131, 7917], [1132, 2264], [1133, 3399], [1133, 4532], [1135, 9080], [1135, 11350], [1149, 9192], [1150, 11500], [1156, 4624], [1158, 5790], [1159, 2318], [1161, 2322], [1161, 5805], [1163, 9304], [1163, 10467], [1172, 8204], [1174, 11740], [1179, 10611], [1180, 9440], [1182, 8274], [1183, 3549], [1184, 10656], [1185, 10665], [1188, 10692], [1191, 11910], [1194, 3582], [1199, 9592], [1202, 12020], [1211, 2422], [1218, 12180], [1224, 6120], [1226, 2452], [1226, 9808], [1229, 8603], [1231, 6155], [1235, 7410], [1239, 9912], [1240, 8680], [1241, 8687], [1245, 8715], [1245, 12450], [1245, 12450], [1246, 8722], [1247, 9976], [1248, 7488], [1248, 8736], [1265, 11385], [1266, 12660], [1267, 3801], [1267, 12670], [1269, 8883], [1270, 5080], [1274, 3822], [1276, 7656], [1279, 7674], [1286, 2572], [1288, 3864], [1288, 10304], [1291, 11619], [1293, 12930], [1301, 6505], [1306, 5224], [1315, 3945], [1321, 5284], [1323, 10584], [1326, 10608], [1339, 8034], [1348, 10784], [1349, 10792], [1353, 12177], [1358, 4074], [1358, 8148], [1359, 9513], [1364, 13640], [1366, 10928], [1376, 2752], [1382, 13820], [1384, 5536], [1385, 2770], [1388, 13880], [1389, 6945], [1391, 2782], [1391, 11128], [1397, 11176], [1404, 5616], [1404, 7020], [1404, 8424], [1404, 11232], [1407, 11256], [1409, 12681], [1411, 5644], [1414, 11312], [1416, 4248], [1418, 8508], [1418, 12762], [1425, 5700], [1430, 8580], [1434, 12906], [1435, 10045], [1439, 11512], [1443, 8658], [1448, 7240], [1448, 10136], [1450, 13050], [1453, 2906], [1458, 14580], [1462, 8772], [1464, 5856], [1465, 8790], [1468, 2936], [1471, 5884], [1473, 2946], [1476, 7380], [1483, 8898], [1484, 7420], [1485, 2970], [1489, 14890], [1492, 5968], [1492, 13428], [1496, 10472], [1498, 5992], [1501, 3002], [1504, 6016], [1510, 9060], [1511, 3022], [1511, 4533], [1517, 10619], [1519, 3038], [1520, 7600], [1520, 10640], [1521, 4563], [1525, 3050], [1529, 9174], [1539, 13851], [1543, 9258], [1545, 4635], [1550, 10850], [1554, 15540], [1560, 6240], [1560, 12480], [1561, 9366], [1561, 14049], [1567, 14103], [1576, 7880], [1604, 14436], [1631, 11417], [1631, 16310], [1632, 3264], [1637, 3274], [1643, 11501], [1644, 9864], [1647, 13176], [1651, 3302], [1653, 13224], [1659, 4977], [1664, 14976], [1670, 8350], [1673, 5019], [1684, 6736], [1685, 5055], [1686, 3372], [1686, 8430], [1687, 5061], [1692, 16920], [1694, 16940], [1701, 13608], [1702, 17020], [1703, 6812], [1715, 12005], [1716, 12012], [1717, 6868], [1719, 13752], [1719, 17190], [1726, 3452], [1726, 17260], [1730, 17300], [1732, 10392], [1744, 13952], [1745, 10470], [1745, 13960], [1749, 13992], [1751, 15759], [1755, 8775], [1757, 17570], [1762, 3524], [1762, 12334], [1769, 3538], [1771, 14168], [1772, 12404], [1776, 3552], [1776, 17760], [1781, 8905], [1782, 7128], [1785, 3570], [1791, 5373], [1795, 12565], [1796, 17960], [1798, 3596], [1798, 12586], [1798, 17980], [1802, 7208], [1803, 3606], [1803, 7212], [1803, 16227], [1803, 16227], [1806, 14448], [1807, 7228], [1809, 10854], [1811, 12677], [1818, 7272], [1821, 5463], [1826, 3652], [1832, 9160], [1833, 12831], [1835, 14680], [1838, 11028], [1844, 12908], [1848, 16632], [1849, 14792], [1857, 9285], [1858, 14864], [1863, 3726], [1865, 16785], [1867, 11202], [1869, 3738], [1870, 11220], [1871, 14968], [1872, 14976], [1874, 9370], [1881, 7524], [1883, 5649], [1885, 15080], [1885, 18850], [1887, 9435], [1895, 18950], [1897, 17073], [1900, 7600], [1905, 11430], [1906, 13342], [1907, 19070], [1909, 5727], [1910, 9550], [1910, 15280], [1911, 13377], [1913, 11478], [1920, 7680], [1923, 9615], [1927, 17343], [1929, 15432], [1943, 9715], [1948, 5844], [1950, 7800], [1950, 11700], [1951, 11706], [1952, 17568], [1956, 13692], [1956, 17604], [1957, 15656], [1958, 13706], [1968, 5904], [1974, 7896], [1974, 13818], [1976, 19760], [1981, 15848], [1982, 7928], [1983, 7932], [1985, 13895], [1989, 5967], [1989, 19890], [1990, 5970], [1997, 11982]]\n",
      "3º [[1999, 7996], [1999, 19990], [2000, 8000], [2008, 4016], [2010, 8040], [2012, 12072], [2014, 20140], [2017, 8068], [2019, 8076], [2019, 14133], [2021, 10105], [2024, 16192], [2025, 10125], [2030, 10150], [2032, 4064], [2032, 6096], [2032, 20320], [2033, 8132], [2035, 8140], [2039, 8156], [2041, 10205], [2044, 18396], [2045, 10225], [2054, 20540], [2057, 8228], [2057, 10285], [2058, 14406], [2060, 16480], [2061, 20610], [2062, 20620], [2066, 4132], [2070, 20700], [2072, 10360], [2072, 10360], [2079, 4158], [2081, 4162], [2082, 20820], [2090, 10450], [2091, 6273], [2092, 20920], [2095, 8380], [2100, 18900], [2101, 21010], [2104, 6312], [2106, 18954], [2107, 10535], [2107, 18963], [2108, 10540], [2115, 6345], [2118, 4236], [2118, 6354], [2118, 8472], [2130, 4260], [2132, 6396], [2137, 14959], [2141, 8564], [2141, 8564], [2142, 14994], [2148, 19332], [2149, 12894], [2152, 6456], [2155, 4310], [2162, 12972], [2163, 4326], [2167, 10835], [2169, 8676], [2170, 6510], [2178, 13068], [2180, 17440], [2182, 4364], [2183, 4366], [2183, 15281], [2185, 17480], [2186, 13116], [2194, 8776], [2194, 15358], [2199, 6597], [2199, 15393], [2200, 11000], [2205, 22050], [2206, 4412], [2209, 11045], [2211, 15477], [2215, 15505], [2215, 22150], [2217, 11085], [2226, 22260], [2227, 22270], [2232, 4464], [2237, 8948], [2239, 15673], [2243, 6729], [2250, 15750], [2255, 4510], [2256, 11280], [2259, 20331], [2260, 9040], [2260, 20340], [2262, 11310], [2266, 9064], [2267, 4534], [2270, 11350], [2271, 4542], [2271, 15897], [2279, 4558], [2286, 16002], [2288, 22880], [2293, 20637], [2295, 4590], [2299, 18392], [2300, 11500], [2303, 18424], [2310, 4620], [2314, 9256], [2323, 23230], [2324, 20916], [2329, 23290], [2330, 20970], [2332, 13992], [2336, 21024], [2344, 7032], [2349, 23490], [2350, 16450], [2351, 7053], [2351, 23510], [2353, 14118], [2354, 23540], [2360, 14160], [2364, 9456], [2367, 21303], [2370, 7110], [2370, 16590], [2373, 11865], [2382, 9528], [2388, 11940], [2389, 4778], [2391, 16737], [2393, 7179], [2396, 23960], [2397, 9588], [2401, 12005], [2402, 4804], [2403, 19224], [2414, 21726], [2416, 21744], [2420, 12100], [2421, 24210], [2422, 24220], [2423, 4846], [2424, 4848], [2424, 4848], [2431, 21879], [2434, 14604], [2434, 24340], [2435, 12175], [2452, 12260], [2453, 14718], [2455, 12275], [2456, 22104], [2457, 7371], [2457, 22113], [2458, 9832], [2459, 19672], [2460, 22140], [2462, 22158], [2473, 19784], [2475, 17325], [2476, 24760], [2480, 17360], [2481, 7443], [2494, 22446], [2496, 4992], [2498, 4996], [2498, 24980], [2500, 10000], [2500, 10000], [2500, 15000], [2500, 25000], [2502, 12510], [2504, 25040], [2506, 12530], [2509, 17563], [2515, 12575], [2527, 25270], [2529, 12645], [2529, 22761], [2531, 17717], [2533, 15198], [2535, 20280], [2536, 25360], [2537, 5074], [2538, 17766], [2539, 22851], [2542, 5084], [2545, 10180], [2546, 15276], [2547, 5094], [2547, 12735], [2548, 7644], [2552, 12760], [2555, 12775], [2555, 25550], [2557, 12785], [2562, 23058], [2569, 17983], [2571, 12855], [2577, 10308], [2581, 5162], [2584, 20672], [2586, 23274], [2588, 5176], [2588, 7764], [2588, 23292], [2601, 13005], [2604, 18228], [2606, 23454], [2610, 26100], [2612, 23508], [2616, 10464], [2618, 23562], [2622, 15732], [2623, 5246], [2632, 18424], [2633, 5266], [2637, 10548], [2637, 15822], [2639, 15834], [2643, 26430], [2646, 18522], [2647, 13235], [2650, 7950], [2650, 23850], [2660, 26600], [2664, 26640], [2665, 23985], [2665, 26650], [2671, 13355], [2677, 13385], [2678, 18746], [2690, 5380], [2695, 26950], [2701, 16206], [2702, 27020], [2705, 13525], [2709, 13545], [2709, 27090], [2711, 5422], [2711, 13555], [2721, 27210], [2723, 13615], [2723, 13615], [2724, 27240], [2737, 24633], [2749, 19243], [2753, 13765], [2753, 24777], [2754, 11016], [2755, 8265], [2757, 22056], [2767, 16602], [2770, 19390], [2775, 24975], [2779, 27790], [2783, 22264], [2785, 11140], [2786, 16716], [2789, 5578], [2791, 19537], [2791, 25119], [2794, 19558], [2794, 25146], [2796, 27960], [2802, 19614], [2804, 22432], [2806, 14030], [2809, 22472], [2815, 5630], [2815, 11260], [2815, 22520], [2818, 5636], [2818, 8454], [2819, 14095], [2820, 22560], [2822, 16932], [2824, 22592], [2825, 5650], [2829, 22632], [2830, 19810], [2833, 11332], [2834, 14170], [2843, 25587], [2857, 17142], [2862, 25758], [2868, 20076], [2869, 20083], [2871, 17226], [2873, 28730], [2878, 23024], [2879, 20153], [2880, 25920], [2886, 25974], [2890, 26010], [2898, 17388], [2898, 17388], [2901, 5802], [2904, 17424], [2906, 8718], [2907, 23256], [2909, 5818], [2911, 20377], [2911, 29110], [2919, 5838], [2922, 14610], [2945, 26505], [2946, 5892], [2947, 11788], [2947, 20629], [2947, 26523], [2948, 26532], [2949, 8847], [2950, 8850], [2957, 17742], [2957, 23656], [2958, 14790], [2967, 5934], [2969, 8907], [2972, 17832], [2975, 8925], [2986, 8958], [2992, 8976], [2998, 11992], [3000, 30000]]\n"
     ]
    }
   ],
   "source": [
    "import random\n",
    "\n",
    "def generate_nested_list(n):\n",
    "    result = []\n",
    "    for _ in range(n):\n",
    "        a = random.randint(1, 3000)\n",
    "        b = a * random.randint(2, 10)\n",
    "        result.append([a, b])\n",
    "    return result\n",
    "\n",
    "inputs = generate_nested_list(1000)\n",
    "\n",
    "if result: print('Engenharia quântica gravada com sucesso')\n",
    "else: print('Erro na gravação da engenharia quântica')\n",
    "\n",
    "quantum_circuit = QuantumCircuit(\n",
    "    architecture=QUANTUM_COMPUTER\n",
    ")\n",
    "\n",
    "quantum_circuit.setQubits(\n",
    "    nqubits = 3\n",
    ")\n",
    "\n",
    "for x in inputs: quantum_circuit.addInputData(data=x)\n",
    "\n",
    "quantum_circuit.addEncoderBarrierX()\n",
    "\n",
    "quantum_circuit.addQuantumTunnelingBarrier()\n",
    "\n",
    "quantum_circuit.addQuantumTunnelingBarrier()\n",
    "\n",
    "quantum_circuit.addDecoderBarrierY()\n",
    "\n",
    "result = quantum_circuit.showCircuit(\n",
    "    save=False\n",
    ")\n",
    "\n",
    "quantum_circuit.measurement(repetitions=1024)\n",
    "\n",
    "groups = quantum_circuit.getResult()\n",
    "\n",
    "for i, group in enumerate(groups): print(f'{i + 1}º {group}')"
   ]
  },
  {
   "cell_type": "markdown",
   "metadata": {},
   "source": [
    "### Algoritmo de Shor"
   ]
  },
  {
   "cell_type": "code",
   "execution_count": 63,
   "metadata": {},
   "outputs": [
    {
     "name": "stdout",
     "output_type": "stream",
     "text": [
      "306159777\n",
      "[3, 3, 3, 7, 11, 147263]\n"
     ]
    }
   ],
   "source": [
    "import random\n",
    "from Neuraline.QuantumPhysics.quantum_computing import QUANTUM_COMPUTER\n",
    "from Neuraline.QuantumPhysics.quantum_algorithms import Shor\n",
    "\n",
    "shor = Shor(\n",
    "    architecture=QUANTUM_COMPUTER\n",
    ")\n",
    "\n",
    "integer_number = random.randint(1, 600000000)\n",
    "\n",
    "print(integer_number)\n",
    "\n",
    "prime_factors = shor.primeNumberFactorization(\n",
    "    integer=integer_number\n",
    ")\n",
    "\n",
    "print(prime_factors)"
   ]
  },
  {
   "cell_type": "markdown",
   "metadata": {},
   "source": [
    "## Algortimo de simulação quântica"
   ]
  },
  {
   "cell_type": "markdown",
   "metadata": {},
   "source": [
    "### Algoritmo de simulação para classificação"
   ]
  },
  {
   "cell_type": "code",
   "execution_count": 71,
   "metadata": {},
   "outputs": [
    {
     "name": "stdout",
     "output_type": "stream",
     "text": [
      "Nível de incerteza no resultado 0.0054866192694071345\n",
      "Teste probabilísticos: {'assertiveness': 0.7455990377220594, 'error': 0.2544009622779406}\n",
      "Resultado classificativo: [[1], [10], [100], [1], [10], [100], [1], [10], [100]]\n"
     ]
    }
   ],
   "source": [
    "quantum_simulation = QuantumSimulation(\n",
    "    architecture=QUANTUM_COMPUTER, #arquitetura de aceso remoto a máquina quêntica\n",
    "    qubits=5, # número de qubits\n",
    "    superpositions=0 # numero de qubits definidos no parêmetro anterior, menor deverá ser o o número de qubits\n",
    "    # Quanto menor o número de sobreposições quânticas, maior será a precisão no resultado\n",
    ")\n",
    "\n",
    "print(f'Nível de incerteza no resultado {quantum_simulation.HEISENBERG_UNCERTAINTY}') # incerteza de Heisenberg\n",
    "\n",
    "inputs = [[1, 2],[10, 20],[100, 200],[3, 4],[30, 40],[300, 400],[5, 6],[50, 60], [500, 600]]\n",
    "\n",
    "outputs = [[1], [10], [100], [1], [10], [100], [1], [10], [100]]\n",
    "\n",
    "quantum_simulation.fit(\n",
    "    inputs=inputs,\n",
    "    outputs=outputs\n",
    ")\n",
    "\n",
    "new_inputs = [[2, 3], [20, 30], [200, 300], [4, 5], [40, 50], [400, 500], [6, 7], [60, 70], [600, 700]]\n",
    "\n",
    "result_test = quantum_simulation.testINPUTS(\n",
    "    inputs=new_inputs,\n",
    "    outputs=outputs\n",
    ")\n",
    "\n",
    "print(f'Teste probabilísticos: {result_test}')\n",
    "\n",
    "new_outputs = quantum_simulation.predict(\n",
    "    inputs=new_inputs\n",
    ")\n",
    "\n",
    "for i, output in enumerate(new_outputs):\n",
    "    if output[0] < 10: new_outputs[i][0] = 1 # Se for qualquer númento menor que 10 atualiza para 1\n",
    "    elif output[0] < 100: new_outputs[i][0] = 10 # Se for qualquer número menor que 100 atualiza para 10\n",
    "    else: new_outputs[i][0] = 100 # Se for qualquer núemro maior ou igual a 100 atualiza para 100\n",
    "\n",
    "print(f'Resultado classificativo: {new_outputs}') "
   ]
  },
  {
   "cell_type": "markdown",
   "metadata": {},
   "source": [
    "## Algoritmode simulação quantica para regresão"
   ]
  },
  {
   "cell_type": "code",
   "execution_count": 74,
   "metadata": {},
   "outputs": [
    {
     "name": "stdout",
     "output_type": "stream",
     "text": [
      "Teste probabilistico de entrada: {'assertiveness': 0.9930438847271191, 'error': 0.0069561152728808695}\n",
      "Resultado regressivo original (de saída): [[4.998633776929801], [8.867881371603543], [12.938665572400293]]\n",
      "Resultado regressivo clássico (de saída): [[5], [9], [13]]\n",
      "Teste probabilistico das saídas: {'assertiveness': 0.996238221688178, 'error': 0.003761778311822006}\n",
      "Resultado regressivo convertido (de entrada): [[2, 3], [4, 5], [6, 7]] \n"
     ]
    }
   ],
   "source": [
    "quantum_simulation = QuantumSimulation(\n",
    "    architecture=QUANTUM_COMPUTER, #arquitetura de aceso remoto a máquina quêntica\n",
    "    qubits=5, # número de qubits\n",
    "    superpositions=0 # numero de qubits definidos no parêmetro anterior, menor deverá ser o o número de qubits\n",
    "    # Quanto menor o número de sobreposições quânticas, maior será a precisão no resultado\n",
    ")\n",
    "\n",
    "inputs = [[1,2], [3, 4], [5, 6], [7, 8], [9, 10], [11, 12], [13, 14], [15, 16], [17, 18], [19, 20]]\n",
    "\n",
    "outputs =[[3], [7], [11], [15], [19], [23], [27], [31], [35], [39]]\n",
    "\n",
    "quantum_simulation.fit(\n",
    "    inputs=inputs,\n",
    "    outputs=outputs\n",
    ")\n",
    "\n",
    "new_inputs =[[2, 3], [4, 5], [6, 7]]\n",
    "\n",
    "result_test = quantum_simulation.testINPUTS(\n",
    "    inputs=new_inputs, # entrada a ser testada\n",
    "    outputs=[[5], [9], [13]] # resultado esperado\n",
    ")\n",
    "\n",
    "print(f'Teste probabilistico de entrada: {result_test}')\n",
    "\n",
    "new_outputs = quantum_simulation.predict(\n",
    "    inputs=new_inputs\n",
    ")\n",
    "\n",
    "print(f'Resultado regressivo original (de saída): {new_outputs}')\n",
    "\n",
    "new_outputs = quantum_simulation.predict(\n",
    "    inputs=new_inputs,\n",
    "    convert=int\n",
    ")\n",
    "\n",
    "print(f'Resultado regressivo clássico (de saída): {new_outputs}')\n",
    "\n",
    "new_outputs =[[5], [9], [13]]\n",
    "\n",
    "# Testa os resultados das saídas: assertiveness: percentual de assertividade; error: percetual de erro\n",
    "# o teste é feito com base nas respostas originais sem conversão\n",
    "result_test = quantum_simulation.testOUTPUTS(\n",
    "    inputs=new_outputs, # saídas a serem testadas\n",
    "    outputs=new_inputs # resultados esperados\n",
    ")\n",
    "\n",
    "print(f'Teste probabilistico das saídas: {result_test}')\n",
    "\n",
    "new_inputs = quantum_simulation.predict( # método de predição de estados quanticos como clássicos\n",
    "    outputs=new_outputs, # atribuição da matriz de entrada\n",
    "    convert=int # converte os valores de resposta para um tipo específico\n",
    ")\n",
    "\n",
    "print(f'Resultado regressivo convertido (de entrada): {new_inputs} ')"
   ]
  },
  {
   "cell_type": "markdown",
   "metadata": {},
   "source": [
    "## Algoritmo de simulaço quântica para sequenciamento"
   ]
  },
  {
   "cell_type": "code",
   "execution_count": 78,
   "metadata": {},
   "outputs": [
    {
     "name": "stdout",
     "output_type": "stream",
     "text": [
      "Nível de incerteza no resultado 0.00015995533724612375\n",
      "Resultado regressivo original: [[20.999840180600923, 21.89004654225234], [22.885139528205848, 23.77060928494927]]\n",
      "Resultado regressivo convertido: [[21, 22], [23, 24]]\n"
     ]
    }
   ],
   "source": [
    "quantum_simulation = QuantumSimulation(\n",
    "    architecture=QUANTUM_COMPUTER, #arquitetura de aceso remoto a máquina quêntica\n",
    "    qubits=5, # número de qubits\n",
    "    superpositions=0 # numero de qubits definidos no parêmetro anterior, menor deverá ser o o número de qubits\n",
    "    # Quanto menor o número de sobreposições quânticas, maior será a precisão no resultado\n",
    ")\n",
    "\n",
    "print(f'Nível de incerteza no resultado {quantum_simulation.HEISENBERG_UNCERTAINTY}') # incerteza de Heisenberg\n",
    "\n",
    "inputs = [[1,2], [3, 4], [5, 6], [7, 8], [9, 10], [11, 12], [13, 14], [15, 16], [17, 18], [19, 20]]\n",
    "\n",
    "quantum_simulation.fit( # métod de treinamento de circuitos de simulaçao quântica\n",
    "    inputs=inputs,\n",
    ")\n",
    "\n",
    "new_inputs = quantum_simulation.predictSequence(# método de medição dos estados quânticos como clássicos\n",
    "    predictions=2, # atribuição do número de resultados preditivos da resposta\n",
    ")\n",
    "\n",
    "print(f'Resultado regressivo original: {new_inputs}') # exibição do resultado\n",
    "\n",
    "quantum_simulation.HEISENBERG_UNCERTAINTY = 0 # zera a incerteza de heisenberg para a precisão inteira\n",
    "\n",
    "new_inputs = quantum_simulation.predictSequence(# método de medição dos estados quânticos como clássicos\n",
    "    predictions=2, # saídas a serem testadas\n",
    "    convert=int # converte os valores de resposta para um tipo específico\n",
    ")\n",
    "\n",
    "print(f'Resultado regressivo convertido: {new_inputs}') # exibição do resultado preditivo"
   ]
  },
  {
   "cell_type": "markdown",
   "metadata": {},
   "source": [
    "### Salvamento e carregamento de dados pré-treinados"
   ]
  },
  {
   "cell_type": "markdown",
   "metadata": {},
   "source": [
    "#### Salvamento do modelo simulado"
   ]
  },
  {
   "cell_type": "code",
   "execution_count": 79,
   "metadata": {},
   "outputs": [
    {
     "name": "stdout",
     "output_type": "stream",
     "text": [
      "Nível de incerteza no resultado 0.0014196955174296878\n",
      "Modelo quântico salvo com sucesso\n"
     ]
    }
   ],
   "source": [
    "quantum_simulation = QuantumSimulation(\n",
    "    architecture=QUANTUM_COMPUTER, #arquitetura de aceso remoto a máquina quêntica\n",
    "    qubits=5, # número de qubits\n",
    "    superpositions=0 # numero de qubits definidos no parêmetro anterior, menor deverá ser o o número de qubits\n",
    "    # Quanto menor o número de sobreposições quânticas, maior será a precisão no resultado\n",
    ")\n",
    "\n",
    "print(f'Nível de incerteza no resultado {quantum_simulation.HEISENBERG_UNCERTAINTY}') # incerteza de Heisenberg\n",
    "\n",
    "inputs = [[1,2], [3, 4], [5, 6], [7, 8], [9, 10], [11, 12], [13, 14], [15, 16], [17, 18], [19, 20]]\n",
    "\n",
    "outputs =[[3, 3], [7, 7], [11, 11], [15, 15], [19, 19], [23, 23], [27, 27], [31, 31], [35, 35], [39, 39]]\n",
    "\n",
    "quantum_simulation.fit(\n",
    "    inputs=inputs,\n",
    "    outputs=outputs\n",
    ")\n",
    "\n",
    "result = quantum_simulation.saveModel(\n",
    "    url_path='modelo_simulado'\n",
    ")\n",
    "\n",
    "if result: print('Modelo quântico salvo com sucesso')\n",
    "else: print('Erro ao salvar modelo quântico')"
   ]
  },
  {
   "cell_type": "markdown",
   "metadata": {},
   "source": [
    "#### Carregamento do modelo simulado"
   ]
  },
  {
   "cell_type": "code",
   "execution_count": 82,
   "metadata": {},
   "outputs": [
    {
     "name": "stdout",
     "output_type": "stream",
     "text": [
      "Modelo quântico carregado com sucesso\n",
      "Resultado regressivo convertido: [[5, 5], [9, 9], [170, 170]]\n"
     ]
    }
   ],
   "source": [
    "quantum_simulation = QuantumSimulation()\n",
    "\n",
    "result = quantum_simulation.loadModel(\n",
    "    url_path='modelo_simulado'\n",
    ")\n",
    "\n",
    "if result: print('Modelo quântico carregado com sucesso')\n",
    "else: print('Erro ao carregar modelo quântico')\n",
    "\n",
    "new_inputs =[[2, 3], [4, 5], [6, 7]]\n",
    "\n",
    "new_outputs = quantum_simulation.predict(\n",
    "    inputs=new_inputs,\n",
    "    convert=int\n",
    ")\n",
    "\n",
    "print(f'Resultado regressivo convertido: {new_outputs}')"
   ]
  },
  {
   "cell_type": "markdown",
   "metadata": {},
   "source": [
    "## Simulação quântica de uma apçlicação do mundo real"
   ]
  },
  {
   "cell_type": "code",
   "execution_count": 86,
   "metadata": {},
   "outputs": [
    {
     "name": "stdout",
     "output_type": "stream",
     "text": [
      "Nível de incerteza no resultado 0.006402086382972396\n"
     ]
    },
    {
     "data": {
      "image/png": "[encoded data removed]",
      "text/plain": [
       "<Figure size 800x400 with 1 Axes>"
      ]
     },
     "metadata": {},
     "output_type": "display_data"
    },
    {
     "name": "stdout",
     "output_type": "stream",
     "text": [
      "(Simulação quântica treinada, executada e plotada com sucesso)\n"
     ]
    }
   ],
   "source": [
    "from Neuraline.QuantumPhysics.quantum_computing import QUANTUM_COMPUTER\n",
    "from Neuraline.QuantumPhysics.quantum_simulation import QuantumSimulation\n",
    "from Neuraline.Utilities.data import DataExploration\n",
    "from Neuraline.Utilities.chart import Chart\n",
    "\n",
    "data_exploration, chart = DataExploration(), Chart()\n",
    "\n",
    "quantum_simulation = QuantumSimulation(\n",
    "    architecture=QUANTUM_COMPUTER, #arquitetura de aceso remoto a máquina quêntica\n",
    "    qubits=5, # número de qubits\n",
    "    superpositions=0 # numero de qubits definidos no parêmetro anterior, menor deverá ser o o número de qubits\n",
    "    # Quanto menor o número de sobreposições quânticas, maior será a precisão no resultado\n",
    ")\n",
    "\n",
    "print(f'Nível de incerteza no resultado {quantum_simulation.HEISENBERG_UNCERTAINTY}') # incerteza de Heisenberg\n",
    "\n",
    "url_data = 'https://pkgstore.datahub.io/core/global-temp/annual_csv/data/a26b154688b061cdd04f1df36e4408be/annual_csv.csv'\n",
    "# colunas na tabela da fonte de dados:\n",
    "# Source: fonte da informação\n",
    "# Year: ano em que a temperatura média foi calculada\n",
    "# Mean: temperatura média do planeta em graus celsius\n",
    "# separa um percentual dos dados para teste e outro para treinamento\n",
    "x_training, y_training, x_test, y_test = data_exploration.dataSeparationCSV( # separação dos dados em listas\n",
    "    url_path=url_data, # atribuição do endereço do arquivo de dados\n",
    "    list_inputs=['Year'], # título da coluna de entrada\n",
    "    list_outputs=['Mean'], # título da coluna de saída\n",
    "    training_percentage=.5, # 50% dos dados para treinamento\n",
    "    test_percentage=.5 # 50% dos dados para teste\n",
    ")\n",
    "\n",
    "# treinamento da simulação para a abstração dos padrões\n",
    "quantum_simulation.fit( # método de treinamento do circuito de simulação quântica\n",
    "    inputs=x_training, # atribuição da matriz de entrada do treinamento\n",
    "    outputs=y_training # atribuição da matriz de saída do treinamento\n",
    ") # se o modelo for salvo com o método saveModel não precisará ser treinado novamente\n",
    "# predição da simulação para a aplicação dos padrões abstraídos no treinamento\n",
    "new_outputs = quantum_simulation.predict( # método de medição dos estados quânticos como clássicos\n",
    "    inputs=x_test # atribuição da matriz de entrada da predição\n",
    ")\n",
    "# plotagem comparativa entre os dados esperados (teste) com os dados preditos (resultado)\n",
    "chart.plotMATRIX( # plotagem do gráfico de linhas\n",
    "    matrix1=y_test, # atribuição da lista com os dados esperados (linha azul/INPUT)\n",
    "    matrix2=new_outputs # atribuição da lista com os dados preditos (linha laranja/OUTPUT)\n",
    ")\n",
    "if len(new_outputs) > 0: print('(Simulação quântica treinada, executada e plotada com sucesso)')\n",
    "else: print('(Erro ao treinar, executar e/ou plotar a simulação quântica)')\n",
    "\n"
   ]
  },
  {
   "cell_type": "code",
   "execution_count": 87,
   "metadata": {},
   "outputs": [
    {
     "name": "stderr",
     "output_type": "stream",
     "text": [
      "Traceback (most recent call last):\n",
      "  File \"src/gevent/greenlet.py\", line 908, in gevent._gevent_cgreenlet.Greenlet.run\n",
      "  File \"/home/miller/.local/lib/python3.10/site-packages/eel/__init__.py\", line 194, in run_lambda\n",
      "    btl.run(\n",
      "  File \"/home/miller/.local/lib/python3.10/site-packages/bottle.py\", line 3175, in run\n",
      "    server.run(app)\n",
      "  File \"/home/miller/.local/lib/python3.10/site-packages/bottle_websocket/server.py\", line 17, in run\n",
      "    server.serve_forever()\n",
      "  File \"/home/miller/.local/lib/python3.10/site-packages/gevent/baseserver.py\", line 398, in serve_forever\n",
      "    self.start()\n",
      "  File \"/home/miller/.local/lib/python3.10/site-packages/gevent/baseserver.py\", line 336, in start\n",
      "    self.init_socket()\n",
      "  File \"/home/miller/.local/lib/python3.10/site-packages/gevent/pywsgi.py\", line 1668, in init_socket\n",
      "    StreamServer.init_socket(self)\n",
      "  File \"/home/miller/.local/lib/python3.10/site-packages/gevent/server.py\", line 173, in init_socket\n",
      "    self.socket = self.get_listener(self.address, self.backlog, self.family)\n",
      "  File \"/home/miller/.local/lib/python3.10/site-packages/gevent/server.py\", line 185, in get_listener\n",
      "    return _tcp_listener(address, backlog=backlog, reuse_addr=cls.reuse_addr, family=family)\n",
      "  File \"/home/miller/.local/lib/python3.10/site-packages/gevent/server.py\", line 264, in _tcp_listener\n",
      "    sock.bind(address)\n",
      "  File \"/home/miller/.local/lib/python3.10/site-packages/gevent/_socketcommon.py\", line 547, in bind\n",
      "    return self._sock.bind(address)\n",
      "OSError: [Errno 98] Address already in use: ('localhost', 8000)\n",
      "2024-08-04T01:41:47Z <Greenlet at 0x7fea80663ba0: run_lambda> failed with OSError\n",
      "\n"
     ]
    },
    {
     "name": "stdout",
     "output_type": "stream",
     "text": [
      "Simulação de buraco negro executada com sucesso.\n"
     ]
    }
   ],
   "source": [
    "# CÓDIGO PARA SIMULAÇÃO DE BURACOS NEGROS POR MEIO DE CÁLCULOS FÍSICO-MATEMÁTICOS\n",
    "from Neuraline.ComputationalPhysics.black_hole_simulation import BlackHoleSimulation # importa o algoritmo de Simulação de Buracos Negros do módulo de Física Computacional\n",
    "BLACK_HOLE_BLACK_BODY_ACCRETION_LEVEL = 1.0 # nível de acreção do corpo negro em graus percentuais de 0 (0%) a 1 (100%).\n",
    "BLACK_HOLE_SPACE_TEMPERATURE_LEVEL = 0.0 # nível da temperatura espacial em relação ao buraco negro de 0 (0%) a 1 (100%).\n",
    "BLACK_HOLE_BLACK_BODY_EXTERNAL_TEMPERATURE = 60.0 # temperatura externa do corpo negro em nanokelvins.\n",
    "VISIBLE_LIGHT_SPECTRUM = 370.0 # espectro da luz visível emitida pela acreção de matéria em nanômetros.\n",
    "BLACK_HOLE_ACCRETION_RADIUS = 1.5 # medida do raio de acreção em radianos.\n",
    "BLACK_HOLE_ACCRETION_WIDTH = 10.0 # largura de expansão da acreção do buraco negro em dias-luz.\n",
    "BLACK_HOLE_ACCRETION_GLOW_LEVEL = 0.9 # nível do brilho total causado pela acreção em graus percentuais de 0 (0%) a 1 (100%).\n",
    "BLACK_HOLE_ACCRETION_TEMPERATURE = 1000000.0 # temperatura de acreção do buraco negro em kelvins.\n",
    "STARS_GLOW_LEVEL = 1.0 # nível do brilho das estrelas no campo de visão em graus percentuais de 0 (0%) a 1 (100%).\n",
    "GALAXY_GLOW_LEVEL = 0.4 # nível do brilho da galáxia no campo de visão em graus percentuais de 0 (0%) a 1 (100%).\n",
    "LEVEL_OF_PLANETARY_ENVIRONMENTAL_IMPACT = 0.1 # nível de brilho do orbital (lua/planeta) causado pelo impacto ambiental no campo de visão em percentuais de 0 (0%) a 1 (100%).\n",
    "PLANETARY_LUMINOSITY_LEVEL = 1.5 # nível de luminosidade orbital/planetária em graus percentuais de 0 (0%) a 1 (100%).\n",
    "BLACK_HOLE_N_STEPS = 100 # número de quadros de uma simulação matemática para outra.\n",
    "BLACK_HOLE_QUALITY = 'medium' # qualidade da simulação, poderá ser medium (qualidade média com processamento médio), fast (qualidade baixa com processamento rápido), high (qualidade alta com processamento lento e alta demanda por hardware).\n",
    "BLACK_HOLE_ACCRETION_DISK = True # se True, exibirá o disco de acreção, se False, colocará o disco de acreção fora do espectro da luz visível.\n",
    "PLANET_ENABLED = False # se True, exibirá um orbital (planeta genérico) orbitando o buraco negro, se False, não exibirá o orbital/planeta.\n",
    "PLANET_DISTANCE = 7.0 # distância do orbital/planeta em relação ao buraco negro em dias-luz.\n",
    "PLANET_RADIUS = 0.4 # medida do orbital/planeta em radianos.\n",
    "BLACK_HOLE_LORENTZ_CONTRACTION = True # se True, usará o cálculo da contração de Lorentz-FitzGerald, se False, irá ignorar a contração de Lorentz-FitzGerald.\n",
    "BLACK_HOLE_GRAVITATIONAL_TIME_DILATION = True # se True, usará o cálculo da dilatação gravitacional do tempo, se False, irá ignorar o cálculo da dilatação do tempo.\n",
    "BLACK_HOLE_ABERRATION = True # se True, habilitará o fenômeno de aberração, se False, irá ignorar o cálculo de aberração.\n",
    "BLACK_HOLE_BEAMATION = True # se True, permitirá a transmissão de informação e energia, se False, irá ignorar o cálculo de transmissão.\n",
    "BLACK_HOLE_DOPPLER_SHIFT = True # se True, usará o cálculo do efeito de deslocamento Doppler, se False, irá ignorar o deslocamento Doppler.\n",
    "BLACK_HOLE_LIGHT_TRAVEL_TIME = True # se True, usará o cálculo do deslocamento da luz, se False, irá ignorar o cálculo do deslocamento da luz.\n",
    "BLACK_HOLE_TIME_SCALE = 1.0 # escala temporal do horizonte de eventos em relação ao observador em graus percentuais de 0 (0%) a 1 (100%).\n",
    "OBSERVER_MOTION = True # se True, habilitará o movimento do observador, se False, irá ignorar o movimento do observador.\n",
    "OBSERVER_DISTANCE = 11.0 # distância do observador em relação ao disco de acreção na escala de dias-luz.\n",
    "OBSERVER_ORBITAL_INCLINATION = -10.0 # grau de inclinação orbital do observador.\n",
    "black_hole = BlackHoleSimulation( # executa a simulação do Buraco Negro através dos cálculos de Astrofísica habilitados ou desabilitados acima.\n",
    "\tBLACK_HOLE_BLACK_BODY_ACCRETION_LEVEL=BLACK_HOLE_BLACK_BODY_ACCRETION_LEVEL, # atribuição do nível de acreção do corpo negro.\n",
    "\tBLACK_HOLE_SPACE_TEMPERATURE_LEVEL=BLACK_HOLE_SPACE_TEMPERATURE_LEVEL, # atribuição do nível de temperatura espacial.\n",
    "\tBLACK_HOLE_BLACK_BODY_EXTERNAL_TEMPERATURE=BLACK_HOLE_BLACK_BODY_EXTERNAL_TEMPERATURE, # atribuição da temperatura externa em nanokelvins.\n",
    "\tVISIBLE_LIGHT_SPECTRUM=VISIBLE_LIGHT_SPECTRUM, # atribuição do espectro de luz visível em nanômetros.\n",
    "\tBLACK_HOLE_ACCRETION_RADIUS=BLACK_HOLE_ACCRETION_RADIUS, # atribuição dos radianos da acreção.\n",
    "\tBLACK_HOLE_ACCRETION_WIDTH=BLACK_HOLE_ACCRETION_WIDTH, # atribuição da largura de expansão da acreção em dias-luz.\n",
    "\tBLACK_HOLE_ACCRETION_GLOW_LEVEL=BLACK_HOLE_ACCRETION_GLOW_LEVEL, # atribuição do nível do brilho de acreção.\n",
    "\tBLACK_HOLE_ACCRETION_TEMPERATURE=BLACK_HOLE_ACCRETION_TEMPERATURE, # atribuição da temperatura causada pela acreção em kelvins.\n",
    "\tSTARS_GLOW_LEVEL=STARS_GLOW_LEVEL, # atribuição do nível de brilho das estrelas.\n",
    "\tGALAXY_GLOW_LEVEL=GALAXY_GLOW_LEVEL, # atribuição do nível de brilho da galáxia.\n",
    "\tLEVEL_OF_PLANETARY_ENVIRONMENTAL_IMPACT=LEVEL_OF_PLANETARY_ENVIRONMENTAL_IMPACT, # atribuição do impacto ambiental no corpo orbital.\n",
    "\tPLANETARY_LUMINOSITY_LEVEL=PLANETARY_LUMINOSITY_LEVEL, # atribuição do nível de luminosidade do corpo orbital.\n",
    "\tBLACK_HOLE_N_STEPS=BLACK_HOLE_N_STEPS, # atribuição do número referente a quantidade de quadros por simulação computacional.\n",
    "\tBLACK_HOLE_QUALITY=BLACK_HOLE_QUALITY, # atribuição da qualidade da simulação computacional.\n",
    "\tBLACK_HOLE_ACCRETION_DISK=BLACK_HOLE_ACCRETION_DISK, # atribuição do estado do disco de acreção.\n",
    "\tPLANET_ENABLED=PLANET_ENABLED, # atribuição do estado do corpo orbital.\n",
    "\tPLANET_DISTANCE=PLANET_DISTANCE, # atribuição da distância do corpo orbital em dias-luz.\n",
    "\tPLANET_RADIUS=PLANET_RADIUS, # atribuição da medida do corpo orbital\n",
    "\tBLACK_HOLE_LORENTZ_CONTRACTION=BLACK_HOLE_LORENTZ_CONTRACTION, # atribuição do estado da contração de Lorentz-FitzGerald.\n",
    "\tBLACK_HOLE_GRAVITATIONAL_TIME_DILATION=BLACK_HOLE_GRAVITATIONAL_TIME_DILATION, # atribuição do estado de dilatação gravitacional do tempo.\n",
    "\tBLACK_HOLE_ABERRATION=BLACK_HOLE_ABERRATION, # atribuição do estado da aberração.\n",
    "\tBLACK_HOLE_BEAMATION=BLACK_HOLE_BEAMATION, # atribuição do estado de transmissão de informação e energia representado por iluminação.\n",
    "\tBLACK_HOLE_DOPPLER_SHIFT=BLACK_HOLE_DOPPLER_SHIFT, # atribuição do estado de deslocamento Doppler.\n",
    "\tBLACK_HOLE_LIGHT_TRAVEL_TIME=BLACK_HOLE_LIGHT_TRAVEL_TIME, # atribuição do estado de viagem da luz no tempo.\n",
    "\tBLACK_HOLE_TIME_SCALE=BLACK_HOLE_TIME_SCALE, # atribuição do nível de escala temporal distorcida pelo poço gravitacional.\n",
    "\tOBSERVER_MOTION=OBSERVER_MOTION, # atribuição do estado de movimentação do observador.\n",
    "\tOBSERVER_DISTANCE=OBSERVER_DISTANCE, # atribuição da distância do observador em dias-luz.\n",
    "\tOBSERVER_ORBITAL_INCLINATION=OBSERVER_ORBITAL_INCLINATION # atribuição do grau de inclinação do observador.\n",
    ") # parâmetros de inicialização da simulação computacional.\n",
    "ARTIFICIAL_NEURAL_NETWORK, QUANTUM_SIMULATION = False, True # habilitação dos recursos matemáticos aplicados a simulação\n",
    "black_hole_result = black_hole.run( # execução da simulação computacional utilizando os cálculos dos parâmetros de inicialização.\n",
    "\tARTIFICIAL_NEURAL_NETWORK=ARTIFICIAL_NEURAL_NETWORK, # atribuição do estado de utilização de redes neurais artificiais na simulação.\n",
    "\tQUANTUM_SIMULATION=QUANTUM_SIMULATION # atribuição do estado de utilização de cálculos de otimização quântica na simulação.\n",
    ")# parâmetros de execução da simulação computacional.\n",
    "# estado da simulação, se True a simulação terá sido construída com sucesso, caso contrário poderão existir erros de configuração.\n",
    "if black_hole_result: print('Simulação de buraco negro executada com sucesso.') # exibição da mensagem de sucesso na operação\n",
    "else: print('Erro na execução da simulação de buraco negro.') # exibição da mensagem de fracasso na operação"
   ]
  },
  {
   "cell_type": "code",
   "execution_count": null,
   "metadata": {},
   "outputs": [],
   "source": []
  },
  {
   "cell_type": "code",
   "execution_count": null,
   "metadata": {},
   "outputs": [],
   "source": []
  },
  {
   "cell_type": "code",
   "execution_count": null,
   "metadata": {},
   "outputs": [],
   "source": []
  },
  {
   "cell_type": "code",
   "execution_count": null,
   "metadata": {},
   "outputs": [],
   "source": []
  },
  {
   "cell_type": "code",
   "execution_count": null,
   "metadata": {},
   "outputs": [],
   "source": []
  }
 ],
 "metadata": {
  "kernelspec": {
   "display_name": "Python 3",
   "language": "python",
   "name": "python3"
  },
  "language_info": {
   "codemirror_mode": {
    "name": "ipython",
    "version": 3
   },
   "file_extension": ".py",
   "mimetype": "text/x-python",
   "name": "python",
   "nbconvert_exporter": "python",
   "pygments_lexer": "ipython3",
   "version": "3.10.12"
  }
 },
 "nbformat": 4,
 "nbformat_minor": 2
}
